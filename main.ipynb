{
 "cells": [
  {
   "cell_type": "markdown",
   "id": "9caa57ab",
   "metadata": {},
   "source": [
    "# Overview of project"
   ]
  },
  {
   "cell_type": "markdown",
   "id": "4bc5d242",
   "metadata": {},
   "source": [
    "## Files"
   ]
  },
  {
   "cell_type": "markdown",
   "id": "0437652f",
   "metadata": {},
   "source": [
    "### Images\n",
    "\n",
    "- `data/train/` - Folder of train photos. \n",
    "    + Structure is `{id}.jpg`\n",
    "    + `9912` photos in training folder\n",
    "- `data/test/` - Folder of test photos.\n",
    "    + Structure is `{id}.jpg`\n",
    "    + `8` photos in testing folder\n",
    "\n",
    "### Metadata\n",
    "\n",
    "- `data/train.csv` - CSV file for metadata of `train` images. Ps. Each image has `id` as their name, and this is `key indificator` for each row of csv\n",
    "- `data/test.csv` - CSV file for metadata of `test` images. Ps. Each image has `id` as their name, and this is `key indificator` for each row of csv "
   ]
  },
  {
   "cell_type": "markdown",
   "id": "b0263d33",
   "metadata": {},
   "source": [
    "##  Metadata\n",
    "\n",
    "The `train.csv` and `test.csv` files contain metadata for photos. Each  photo is labeled with the value of `1 (Yes)` or `0 (No)` for features:\n",
    "\n",
    "+ `Focus` - Pet stands out against uncluttered background, not too close / far.\n",
    "+ `Eyes` - Both eyes are facing front or near-front, with at least 1 eye / pupil decently clear.\n",
    "+ `Face` - Decently clear face, facing front or near-front.\n",
    "+ `Near` - Single pet taking up significant portion of photo (roughly over 50% of photo width or height).\n",
    "+ `Action` - Pet in the middle of an action (e.g., jumping).\n",
    "+ `Accessory` - Accompanying physical or digital accessory / prop (i.e. toy, digital sticker), excluding collar and leash.\n",
    "+ `Group` - More than 1 pet in the photo.\n",
    "+ `Collage` - Digitally-retouched photo (i.e. with digital photo frame, combination of multiple photos).\n",
    "+ `Human` - Human in the photo.\n",
    "+ `Occlusion` - Specific undesirable objects blocking part of the pet (i.e. human, cage or fence). Note that not all blocking objects are considered occlusion.\n",
    "+ `Info` - Custom-added text or labels (i.e. pet name, description).\n",
    "+ `Blur` - Noticeably out of focus or noisy, especially for the pet’s eyes and face. For Blur entries, “Eyes” column is always set to 0."
   ]
  },
  {
   "cell_type": "code",
   "execution_count": 1,
   "id": "fd667cc8",
   "metadata": {},
   "outputs": [
    {
     "name": "stdout",
     "output_type": "stream",
     "text": [
      "We have 9912 photos for training\n",
      "We have 8 photos for testing\n"
     ]
    }
   ],
   "source": [
    "import os\n",
    "training_size = os.listdir('./data/train/')\n",
    "testing_size = os.listdir('./data/test/')\n",
    "print(f\"We have {len(training_size)} photos for training\")\n",
    "print(f\"We have {len(testing_size)} photos for testing\")"
   ]
  },
  {
   "cell_type": "code",
   "execution_count": 2,
   "id": "b3445e70",
   "metadata": {},
   "outputs": [],
   "source": [
    "from plotnine import *\n",
    "\n",
    "import pandas as pd\n",
    "import numpy as np\n",
    "\n",
    "import warnings\n",
    "warnings.filterwarnings('ignore')\n",
    "\n",
    "import matplotlib.pyplot as plt\n",
    "\n",
    "from keras.layers import Input, Conv2D, Activation, Flatten, Dense, MaxPooling2D, BatchNormalization, Dropout\n",
    "from keras import regularizers, optimizers, Sequential"
   ]
  },
  {
   "cell_type": "markdown",
   "id": "4140637d",
   "metadata": {},
   "source": [
    "---"
   ]
  }
 ],
 "metadata": {
  "kernelspec": {
   "display_name": "Python 3 (ipykernel)",
   "language": "python",
   "name": "python3"
  },
  "language_info": {
   "codemirror_mode": {
    "name": "ipython",
    "version": 3
   },
   "file_extension": ".py",
   "mimetype": "text/x-python",
   "name": "python",
   "nbconvert_exporter": "python",
   "pygments_lexer": "ipython3",
   "version": "3.9.7"
  }
 },
 "nbformat": 4,
 "nbformat_minor": 5
}
