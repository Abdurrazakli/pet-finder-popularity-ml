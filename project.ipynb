{
 "cells": [
  {
   "cell_type": "markdown",
   "metadata": {},
   "source": [
    "# Titanic - Machine Learning Project (UT)\n",
    "---"
   ]
  },
  {
   "cell_type": "code",
   "execution_count": null,
   "metadata": {},
   "outputs": [],
   "source": [
    "import os\n",
    "import pandas as pd\n",
    "import numpy as np\n",
    "\n",
    "import matplotlib.pyplot as plt\n",
    "import seaborn as sns\n",
    "\n",
    "from sklearn.model_selection import train_test_split"
   ]
  },
  {
   "cell_type": "markdown",
   "metadata": {},
   "source": [
    "---"
   ]
  },
  {
   "cell_type": "markdown",
   "metadata": {},
   "source": [
    "## Plan\n",
    "\n",
    "1) **Input Data** - for importing our train and test data set.\n",
    "\n",
    "2) **Data Exploration** - for exploring our train data set \n",
    "\n",
    "3) **Feature Engineering** - for merging and removing columns\n",
    "\n",
    "4) **Data Processing** - preparing data for model fitting\n",
    "\n",
    "---"
   ]
  },
  {
   "cell_type": "markdown",
   "metadata": {},
   "source": [
    "### Input Data"
   ]
  },
  {
   "cell_type": "code",
   "execution_count": null,
   "metadata": {},
   "outputs": [],
   "source": [
    "os.listdir('inputs/')"
   ]
  },
  {
   "cell_type": "code",
   "execution_count": null,
   "metadata": {},
   "outputs": [],
   "source": [
    "train_df = pd.read_csv(\"./inputs/train.csv\")\n",
    "test_df = pd.read_csv(\"./inputs/test.csv\")"
   ]
  },
  {
   "cell_type": "code",
   "execution_count": null,
   "metadata": {},
   "outputs": [],
   "source": [
    "data_list = [train_df, test_df]"
   ]
  },
  {
   "cell_type": "code",
   "execution_count": null,
   "metadata": {},
   "outputs": [],
   "source": [
    "train_df.head()"
   ]
  },
  {
   "cell_type": "code",
   "execution_count": null,
   "metadata": {},
   "outputs": [],
   "source": [
    "test_df.head()"
   ]
  },
  {
   "cell_type": "code",
   "execution_count": null,
   "metadata": {},
   "outputs": [],
   "source": [
    "test_df.info()"
   ]
  },
  {
   "cell_type": "markdown",
   "metadata": {},
   "source": [
    "---"
   ]
  },
  {
   "cell_type": "markdown",
   "metadata": {},
   "source": [
    "### Data Exploration"
   ]
  },
  {
   "cell_type": "code",
   "execution_count": null,
   "metadata": {},
   "outputs": [],
   "source": [
    "print(f\"Train data is {train_df.shape[0]} rows, with {train_df.shape[1]} columns\")\n",
    "print(f\"Test data is {test_df.shape[0]} rows, with {test_df.shape[1]} columns\")"
   ]
  },
  {
   "cell_type": "code",
   "execution_count": null,
   "metadata": {},
   "outputs": [],
   "source": [
    "train_df.info()"
   ]
  },
  {
   "cell_type": "code",
   "execution_count": null,
   "metadata": {},
   "outputs": [],
   "source": [
    "test_df.info()"
   ]
  },
  {
   "cell_type": "code",
   "execution_count": null,
   "metadata": {},
   "outputs": [],
   "source": [
    "train_df.describe()"
   ]
  },
  {
   "cell_type": "code",
   "execution_count": null,
   "metadata": {},
   "outputs": [],
   "source": [
    "numeric_columns = train_df[['Age','SibSp','Parch','Fare']]\n",
    "categorical_columns = train_df[['Survived','Pclass','Sex','Ticket','Cabin','Embarked']]"
   ]
  },
  {
   "cell_type": "code",
   "execution_count": null,
   "metadata": {},
   "outputs": [],
   "source": [
    "for i in numeric_columns.columns:\n",
    "    plt.hist(numeric_columns[i])\n",
    "    plt.title(i)\n",
    "    plt.show()"
   ]
  },
  {
   "cell_type": "code",
   "execution_count": null,
   "metadata": {},
   "outputs": [],
   "source": [
    "pd.pivot_table(train_df, index = 'Survived', values = ['Age','SibSp','Parch','Fare'])"
   ]
  },
  {
   "cell_type": "code",
   "execution_count": null,
   "metadata": {},
   "outputs": [],
   "source": [
    "pd.pivot_table(train_df, index = 'Survived', columns = 'Pclass', values = 'PassengerId' ,aggfunc ='count')\n"
   ]
  },
  {
   "cell_type": "code",
   "execution_count": null,
   "metadata": {},
   "outputs": [],
   "source": [
    "pd.pivot_table(train_df, index = 'Survived', columns = 'Sex', values = 'PassengerId' ,aggfunc ='count')\n"
   ]
  },
  {
   "cell_type": "code",
   "execution_count": null,
   "metadata": {},
   "outputs": [],
   "source": [
    "pd.pivot_table(train_df, index = 'Survived', columns = 'Embarked', values = 'PassengerId' ,aggfunc ='count')\n"
   ]
  },
  {
   "cell_type": "code",
   "execution_count": null,
   "metadata": {},
   "outputs": [],
   "source": [
    "train_df[['Pclass', 'Survived']].groupby(['Pclass'], as_index=False).mean().sort_values(by='Survived', ascending=False)"
   ]
  },
  {
   "cell_type": "code",
   "execution_count": null,
   "metadata": {},
   "outputs": [],
   "source": [
    "sns.heatmap(train_df.corr())"
   ]
  },
  {
   "cell_type": "code",
   "execution_count": null,
   "metadata": {},
   "outputs": [],
   "source": [
    "for place in train_df['Embarked'].unique()[0:3]:\n",
    "    place_count = len(train_df[(train_df.Embarked == place)])\n",
    "    a = len(train_df)\n",
    "    print(f\"Number of people from {place} are {place_count*100/a}%\")"
   ]
  },
  {
   "cell_type": "markdown",
   "metadata": {},
   "source": [
    "## Feature Engineering\n",
    "---"
   ]
  },
  {
   "cell_type": "code",
   "execution_count": null,
   "metadata": {},
   "outputs": [],
   "source": [
    "# Merging Parent Children and Sibling Spouse to FamilyOnBoard\n",
    "train_df['FamilyOnBoard']= train_df.SibSp + train_df.Parch\n",
    "test_df['FamilyOnBoard']= test_df.SibSp + test_df.Parch"
   ]
  },
  {
   "cell_type": "code",
   "execution_count": null,
   "metadata": {},
   "outputs": [],
   "source": [
    "plot = train_df.plot.scatter('FamilyOnBoard','Survived')"
   ]
  },
  {
   "cell_type": "code",
   "execution_count": null,
   "metadata": {},
   "outputs": [],
   "source": [
    "train_df.info()"
   ]
  },
  {
   "cell_type": "code",
   "execution_count": null,
   "metadata": {},
   "outputs": [],
   "source": [
    "train_df['cabin_adv'] = train_df.Cabin.apply(lambda x: str(x)[0])\n",
    "test_df['cabin_adv'] = test_df.Cabin.apply(lambda x: str(x)[0])"
   ]
  },
  {
   "cell_type": "code",
   "execution_count": null,
   "metadata": {},
   "outputs": [],
   "source": [
    "pd.pivot_table(train_df,index='Survived',columns='cabin_adv', values = 'Name', aggfunc='count')"
   ]
  },
  {
   "cell_type": "markdown",
   "metadata": {},
   "source": [
    "### Data Processing\n",
    "\n",
    "---\n"
   ]
  },
  {
   "cell_type": "code",
   "execution_count": null,
   "metadata": {},
   "outputs": [],
   "source": [
    "train_df = train_df.drop(labels='Parch', axis=1)\n",
    "test_df = test_df.drop(labels='Parch', axis=1)\n",
    "\n",
    "train_df = train_df.drop(labels='SibSp', axis=1)\n",
    "test_df = test_df.drop(labels='SibSp', axis=1)"
   ]
  },
  {
   "cell_type": "code",
   "execution_count": null,
   "metadata": {},
   "outputs": [],
   "source": [
    "def fill_empty_Median(dataFrame, column, groupColumns ):\n",
    "    dataFrame[column] = dataFrame[column].fillna(dataFrame.groupby(groupColumns)[column].transform('median'))\n",
    "    return dataFrame[column]"
   ]
  },
  {
   "cell_type": "code",
   "execution_count": null,
   "metadata": {},
   "outputs": [],
   "source": [
    "fig = plt.figure(figsize = (12,9))\n",
    "sns.histplot(train_df[\"Age\"], kde=True, palette='BuPu_r')\n",
    "plt.title('Age hist Before filling')\n",
    "plt.show()"
   ]
  },
  {
   "cell_type": "code",
   "execution_count": null,
   "metadata": {},
   "outputs": [],
   "source": [
    "train_df['Age'] = fill_empty_Median(train_df, \"Age\", ['FamilyOnBoard', 'Sex', 'Pclass', 'Fare'])\n",
    "train_df['Age'] = train_df['Age'].fillna(train_df['Age'].median())\n",
    "\n",
    "test_df['Age'] = fill_empty_Median(test_df, \"Age\", ['FamilyOnBoard', 'Sex', 'Pclass', 'Fare'])\n",
    "test_df['Age'] = test_df['Age'].fillna(test_df['Age'].median())"
   ]
  },
  {
   "cell_type": "code",
   "execution_count": null,
   "metadata": {},
   "outputs": [],
   "source": [
    "train_df.info()"
   ]
  },
  {
   "cell_type": "code",
   "execution_count": null,
   "metadata": {},
   "outputs": [],
   "source": [
    "fig = plt.figure(figsize = (12,9))\n",
    "sns.histplot(train_df[\"Age\"], kde=True, palette='BuPu_r')\n",
    "plt.title('Age hist After filling')\n",
    "plt.show()"
   ]
  },
  {
   "cell_type": "code",
   "execution_count": null,
   "metadata": {},
   "outputs": [],
   "source": [
    "train_df = train_df.drop(labels='Cabin', axis=1)\n",
    "test_df = test_df.drop(labels='Cabin', axis=1)"
   ]
  },
  {
   "cell_type": "code",
   "execution_count": null,
   "metadata": {},
   "outputs": [],
   "source": [
    "train_df.info()"
   ]
  },
  {
   "cell_type": "code",
   "execution_count": null,
   "metadata": {},
   "outputs": [],
   "source": [
    "test_df.info()"
   ]
  },
  {
   "cell_type": "code",
   "execution_count": null,
   "metadata": {},
   "outputs": [],
   "source": [
    "test_df.Fare = test_df.Fare.fillna(train_df.Fare.median())"
   ]
  },
  {
   "cell_type": "markdown",
   "metadata": {},
   "source": [
    "### Building Models\n",
    "\n",
    "---"
   ]
  },
  {
   "cell_type": "code",
   "execution_count": null,
   "metadata": {},
   "outputs": [],
   "source": [
    "from sklearn.model_selection import cross_val_score\n",
    "from sklearn.linear_model import LogisticRegression\n",
    "from sklearn.neighbors import KNeighborsClassifier\n",
    "from sklearn.ensemble import RandomForestClassifier\n",
    "from sklearn.svm import SVC"
   ]
  },
  {
   "cell_type": "code",
   "execution_count": null,
   "metadata": {},
   "outputs": [],
   "source": [
    "features = ['Pclass', \"Sex\", 'Age', \"Fare\", \"Embarked\", \"FamilyOnBoard\", 'cabin_adv', 'Survived']\n",
    "\n",
    "#split valid train set into train and validation parts\n",
    "train_df = pd.get_dummies(train_df[features])\n",
    "\n",
    "train_df, train_df_val = train_test_split(train_df, random_state = 111, test_size = 0.20)\n",
    "\n",
    "y = train_df[\"Survived\"]\n",
    "x = train_df.drop(columns=['Survived'])\n",
    "\n",
    "y_val = train_df_val[\"Survived\"]\n",
    "x_val = train_df_val.drop(columns=['Survived'])\n",
    "\n",
    "features.remove(\"Survived\")\n",
    "\n",
    "test_x = pd.get_dummies(test_df[features])"
   ]
  },
  {
   "cell_type": "code",
   "execution_count": null,
   "metadata": {},
   "outputs": [],
   "source": [
    "train_df.info()"
   ]
  },
  {
   "cell_type": "code",
   "execution_count": null,
   "metadata": {},
   "outputs": [],
   "source": [
    "train_df_val.info()"
   ]
  },
  {
   "cell_type": "code",
   "execution_count": null,
   "metadata": {},
   "outputs": [],
   "source": [
    "lr = LogisticRegression(max_iter=2000)\n",
    "cv = cross_val_score(lr,x,y,cv=5)\n",
    "\n",
    "print('-'*40)\n",
    "for val in enumerate(cv):\n",
    "    print(f\"Accuracy #{val[0]}: {val[1]} \")\n",
    "\n",
    "print('-'*40)\n",
    "print(f\"Mean value: {cv.mean()}\")\n",
    "x.info()"
   ]
  },
  {
   "cell_type": "code",
   "execution_count": null,
   "metadata": {},
   "outputs": [],
   "source": [
    "knn = KNeighborsClassifier()\n",
    "cv = cross_val_score(knn,x,y,cv=5)\n",
    "\n",
    "print('-'*40)\n",
    "for val in enumerate(cv):\n",
    "    print(f\"Accuracy #{val[0]}: {val[1]} \")\n",
    "\n",
    "print('-'*40)\n",
    "print(f\"Mean value: {cv.mean()}\")"
   ]
  },
  {
   "cell_type": "code",
   "execution_count": null,
   "metadata": {},
   "outputs": [],
   "source": [
    "rfc = RandomForestClassifier(n_estimators=100, max_depth=3, random_state=1)\n",
    "\n",
    "cv = cross_val_score(rfc, x, y, cv=5)\n",
    "\n",
    "print('-'*40)\n",
    "for val in enumerate(cv):\n",
    "    print(f\"Accuracy #{val[0]}: {val[1]} \")\n",
    "\n",
    "print('-'*40)\n",
    "print(f\"Mean value: {cv.mean()}\")"
   ]
  },
  {
   "cell_type": "code",
   "execution_count": null,
   "metadata": {},
   "outputs": [],
   "source": [
    "svc = SVC(probability = True)\n",
    "cv = cross_val_score(svc,x,y,cv=5)\n",
    "\n",
    "print('-'*40)\n",
    "for val in enumerate(cv):\n",
    "    print(f\"Accuracy #{val[0]}: {val[1]} \")\n",
    "\n",
    "print('-'*40)\n",
    "print(f\"Mean value: {cv.mean()}\")"
   ]
  },
  {
   "cell_type": "code",
   "execution_count": null,
   "metadata": {},
   "outputs": [],
   "source": [
    "from xgboost import XGBClassifier\n",
    "xgb = XGBClassifier(random_state =1)\n",
    "cv = cross_val_score(xgb,x,y,cv=5)\n",
    "\n",
    "print('-'*40)\n",
    "for val in enumerate(cv):\n",
    "    print(f\"Accuracy #{val[0]}: {val[1]} \")\n",
    "\n",
    "print('-'*40)\n",
    "print(f\"Mean value: {cv.mean()}\")"
   ]
  },
  {
   "cell_type": "markdown",
   "metadata": {},
   "source": [
    "### Custom Neural Network\n",
    "\n",
    "---\n"
   ]
  },
  {
   "cell_type": "code",
   "execution_count": null,
   "metadata": {},
   "outputs": [],
   "source": [
    "from keras.models import Sequential\n",
    "from keras.layers import Dense\n",
    "\n",
    "model = Sequential()\n",
    "n_features = x.columns.size\n",
    "model.add(Dense(n_features, activation='relu', input_shape=(n_features,)))\n",
    "\n",
    "model.add(Dense(n_features, activation='relu'))\n",
    "\n",
    "model.add(Dense(1, activation='sigmoid'))\n",
    "\n",
    "#model\n",
    "model.compile(loss='binary_crossentropy',\n",
    "              optimizer='adam',\n",
    "              metrics=['accuracy'])\n",
    "                   \n",
    "model._estimator_type = \"classifier\""
   ]
  },
  {
   "cell_type": "code",
   "execution_count": null,
   "metadata": {},
   "outputs": [],
   "source": [
    "model.fit(x, y, epochs=50, batch_size=4, verbose=1)"
   ]
  },
  {
   "cell_type": "code",
   "execution_count": null,
   "metadata": {},
   "outputs": [],
   "source": [
    "print(model.evaluate(x, y))"
   ]
  }
 ],
 "metadata": {
  "interpreter": {
   "hash": "30244d2f3efd454410fd1ae01f00644ee295ec6a10c22f1f9cb3171fed2f7775"
  },
  "kernelspec": {
   "display_name": "Python 3.9.7 64-bit ('venv': venv)",
   "language": "python",
   "name": "python3"
  },
  "language_info": {
   "codemirror_mode": {
    "name": "ipython",
    "version": 3
   },
   "file_extension": ".py",
   "mimetype": "text/x-python",
   "name": "python",
   "nbconvert_exporter": "python",
   "pygments_lexer": "ipython3",
   "version": "3.9.7"
  },
  "orig_nbformat": 4
 },
 "nbformat": 4,
 "nbformat_minor": 2
}
